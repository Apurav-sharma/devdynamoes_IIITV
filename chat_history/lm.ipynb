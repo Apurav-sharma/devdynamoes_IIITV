{
 "cells": [
  {
   "cell_type": "code",
   "execution_count": 1,
   "id": "f19f22ad",
   "metadata": {},
   "outputs": [],
   "source": [
    "from langchain_groq import ChatGroq\n",
    "from langchain.vectorstores import FAISS\n",
    "import langchain"
   ]
  },
  {
   "cell_type": "code",
   "execution_count": 2,
   "id": "1b32841f",
   "metadata": {},
   "outputs": [],
   "source": [
    "llm = ChatGroq(\n",
    "    model_name = \"llama-3.3-70b-versatile\",\n",
    "    temperature = 0.9,\n",
    "    groq_api_key = \"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\"\n",
    ")"
   ]
  },
  {
   "cell_type": "code",
   "execution_count": 9,
   "id": "02cd778f",
   "metadata": {},
   "outputs": [
    {
     "name": "stdout",
     "output_type": "stream",
     "text": [
      "```python\n",
      "def find_largest_number(num_list):\n",
      "    return max(num_list)\n",
      "\n",
      "numbers = [12, 45, 7, 23, 56, 89, 34]\n",
      "print(find_largest_number(numbers))\n",
      "```\n"
     ]
    }
   ],
   "source": [
    "response = llm.invoke(\"give me a code of finding the largest number in a list of numbers and i want only the code without any explanation!!\")\n",
    "\n",
    "print(response.content)"
   ]
  },
  {
   "cell_type": "code",
   "execution_count": null,
   "id": "a8825444",
   "metadata": {},
   "outputs": [],
   "source": []
  }
 ],
 "metadata": {
  "kernelspec": {
   "display_name": "Python 3",
   "language": "python",
   "name": "python3"
  },
  "language_info": {
   "codemirror_mode": {
    "name": "ipython",
    "version": 3
   },
   "file_extension": ".py",
   "mimetype": "text/x-python",
   "name": "python",
   "nbconvert_exporter": "python",
   "pygments_lexer": "ipython3",
   "version": "3.12.4"
  }
 },
 "nbformat": 4,
 "nbformat_minor": 5
}
